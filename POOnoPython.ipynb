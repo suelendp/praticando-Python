{
  "nbformat": 4,
  "nbformat_minor": 0,
  "metadata": {
    "colab": {
      "provenance": [],
      "authorship_tag": "ABX9TyPFTxfihlNkkbnAWlTBhxQh",
      "include_colab_link": true
    },
    "kernelspec": {
      "name": "python3",
      "display_name": "Python 3"
    },
    "language_info": {
      "name": "python"
    }
  },
  "cells": [
    {
      "cell_type": "markdown",
      "metadata": {
        "id": "view-in-github",
        "colab_type": "text"
      },
      "source": [
        "<a href=\"https://colab.research.google.com/github/suelendp/praticando-Python/blob/main/POOnoPython.ipynb\" target=\"_parent\"><img src=\"https://colab.research.google.com/assets/colab-badge.svg\" alt=\"Open In Colab\"/></a>"
      ]
    },
    {
      "cell_type": "code",
      "execution_count": null,
      "metadata": {
        "colab": {
          "base_uri": "https://localhost:8080/"
        },
        "id": "NZa6-tlZ-XJI",
        "outputId": "635458f6-3dac-4bb8-f768-1a2637fd434d"
      },
      "outputs": [
        {
          "output_type": "stream",
          "name": "stdout",
          "text": [
            "Nome: maria, Endereço: rua 01234\n",
            "Nome: joão, Endereço: rua 56789\n"
          ]
        }
      ],
      "source": [
        "class Pessoa:\n",
        "  #construtor\n",
        "  def __init__(self, nome, ender):\n",
        "    self.set_nome(nome)\n",
        "    self.set_ender(ender)\n",
        "  \n",
        "  def set_nome(self, nome):\n",
        "    self.nome=nome\n",
        "\n",
        "  def set_ender(self, ender):\n",
        "    self.ender=ender\n",
        "  \n",
        "  def get_nome(self):\n",
        "    return self.nome\n",
        "  \n",
        "  def get_ender(self):\n",
        "    return self.ender\n",
        "\n",
        "\n",
        "pessoa1 = Pessoa(\"maria\", \"rua 01234\")\n",
        "pessoa2 = Pessoa(\"joão\", \"rua 56789\")\n",
        "\n",
        "print(f'Nome: {pessoa1.get_nome()}, Endereço: {pessoa1.get_ender()}')\n",
        "\n",
        "print(f'Nome: {pessoa2.get_nome()}, Endereço: {pessoa2.get_ender()}')\n"
      ]
    },
    {
      "cell_type": "code",
      "source": [
        "#Agregação\n",
        "\n",
        "#Classe Salario\n",
        "\n",
        "class Salario:\n",
        "  def __init__(self, base, bonus):\n",
        "    self.base = base\n",
        "    self.bonus = bonus\n",
        "\n",
        "  def salario_anual(self):\n",
        "    return (self.base*12) + self.bonus\n",
        "\n",
        "#Classe Empregado\n",
        "class Empregado:\n",
        "  def __init__(self, nome, idade, salario):\n",
        "    self.nome = nome\n",
        "    self.idade = idade\n",
        "    self.salario_agregado = salario #Agregação\n",
        "  \n",
        "  def salario_total(self):\n",
        "    return self.salario_agregado.salario_anual()\n",
        "\n",
        "salario = Salario(10000, 700)\n",
        "emp = Empregado('Mariana', 46, salario)\n",
        "\n",
        "print(emp.salario_total())\n",
        "\n",
        "    "
      ],
      "metadata": {
        "colab": {
          "base_uri": "https://localhost:8080/"
        },
        "id": "uwI_l014D_k0",
        "outputId": "4c9f98fc-e674-4ce5-efb2-bd3306c7ff3a"
      },
      "execution_count": null,
      "outputs": [
        {
          "output_type": "stream",
          "name": "stdout",
          "text": [
            "120700\n"
          ]
        }
      ]
    },
    {
      "cell_type": "code",
      "source": [
        "#Método de Classe x Método Estático\n",
        "\n",
        "from datetime import date\n",
        "class Pessoas:\n",
        "  def __init__(self, nome, idade):\n",
        "    self.nome = nome\n",
        "    self.idade = idade\n",
        "  # Um método de classe para criar\n",
        "  # Um objeto Pessoa através do ano de nascimento. \n",
        "\n",
        "  @classmethod\n",
        "  def apartirAnoNascimento(cls, nome, ano):\n",
        "    return cls(nome, date.today().year - ano)\n",
        "\n",
        "  #Método Estático: verificar se é maior de idade.\n",
        "  @staticmethod\n",
        "  def ehMaiorIdade(idade):\n",
        "    return idade >= 18\n",
        "\n",
        "pessoa1 = Pessoas('Maria', 26)\n",
        "pessoa2 = Pessoas.apartirAnoNascimento('Ana', 2006)\n",
        "\n",
        "print(pessoa1.idade)\n",
        "print(pessoa2.idade)\n",
        "\n",
        "#imprimir o resultado\n",
        "print(Pessoas.ehMaiorIdade(19))\n"
      ],
      "metadata": {
        "colab": {
          "base_uri": "https://localhost:8080/"
        },
        "id": "NFgSx_QcHQA-",
        "outputId": "4a8a2288-0edf-4ffd-b21b-06c53c20990e"
      },
      "execution_count": null,
      "outputs": [
        {
          "output_type": "stream",
          "name": "stdout",
          "text": [
            "26\n",
            "17\n",
            "True\n"
          ]
        }
      ]
    },
    {
      "cell_type": "code",
      "source": [
        "#Criar classe veiculo, com atributos de velocidade máxima, e quantidade de km por litro.\n",
        "class Veiculo:\n",
        "  def __init__(self, nome, velocidade_max, quilometros_litro):\n",
        "    self.nome = nome\n",
        "    self.velocidade_max = velocidade_max\n",
        "    self.quantidade_litro = quilometros_litro\n",
        "\n",
        "  def capacidade_assentos(self, capacidade):\n",
        "    print(f'A capacidade máxima de assentos do veículo {self.nome} é {capacidade}')\n",
        "\n",
        "  def mostrarDados(self):\n",
        "    print(f'nome = {self.nome}')\n",
        "    print(f'velociadade_max = {self.velocidade_max}')\n",
        "    print(f'quantidade_max = {self.quantidade_litro}')\n",
        "\n",
        "modelo_carro = Veiculo('fusca', 180, 10)\n",
        "modelo_carro.mostrarDados()\n",
        "\n",
        "class Onibus(Veiculo):\n",
        "  def capacidade_assentos(self, capacidade = 70):\n",
        "    return super().capacidade_assentos(capacidade = 70)\n",
        "\n",
        "onibus_escolar = Onibus('Scania', 120, 8)\n",
        "onibus_escolar.mostrarDados()\n",
        "onibus_escolar.capacidade_assentos()\n",
        "\n"
      ],
      "metadata": {
        "colab": {
          "base_uri": "https://localhost:8080/"
        },
        "id": "J4KDCdvWUOyD",
        "outputId": "96e7d361-cfcd-4212-99ba-af92d451fe12"
      },
      "execution_count": null,
      "outputs": [
        {
          "output_type": "stream",
          "name": "stdout",
          "text": [
            "nome = fusca\n",
            "velociadade_max = 180\n",
            "quantidade_max = 10\n",
            "nome = Scania\n",
            "velociadade_max = 120\n",
            "quantidade_max = 8\n",
            "A capacidade máxima de assentos do veículo Scania é 70\n"
          ]
        }
      ]
    },
    {
      "cell_type": "code",
      "source": [],
      "metadata": {
        "id": "6qpfP7dxX1Vp"
      },
      "execution_count": null,
      "outputs": []
    },
    {
      "cell_type": "code",
      "source": [
        "class Onibus(Veiculo):\n",
        "  pass\n",
        "\n",
        "onibus_escolar = Onibus('Scania', 120, 8)\n",
        "onibus_escolar.mostrarDados()"
      ],
      "metadata": {
        "colab": {
          "base_uri": "https://localhost:8080/"
        },
        "id": "LhqoyCgjW0ku",
        "outputId": "d8f754c2-423d-4c5b-c1dd-0f78bd3847bd"
      },
      "execution_count": null,
      "outputs": [
        {
          "output_type": "stream",
          "name": "stdout",
          "text": [
            "nome = Scania\n",
            "velociadade_max = 120\n",
            "quantidade_max = 8\n"
          ]
        }
      ]
    },
    {
      "cell_type": "code",
      "source": [
        "class Onibus(Veiculo):\n",
        "  def capacidade_assentos(self, capacidade = 70):\n",
        "    return super().capacidade_assentos(capacidade)\n",
        "\n",
        "onibus_escolar = Onibus('Scania', 120, 8)\n",
        "onibus_escolar.mostrarDados()\n",
        "onibus_escolar.capacidade_assentos()"
      ],
      "metadata": {
        "colab": {
          "base_uri": "https://localhost:8080/"
        },
        "id": "H3aUAHRqW58-",
        "outputId": "2eeb95c7-48cf-4032-b1e6-cb0f38314bf2"
      },
      "execution_count": null,
      "outputs": [
        {
          "output_type": "stream",
          "name": "stdout",
          "text": [
            "nome = Scania\n",
            "velociadade_max = 120\n",
            "quantidade_max = 8\n",
            "A capacidade máxima de assentos do veículo Scania é 70\n"
          ]
        }
      ]
    }
  ]
}